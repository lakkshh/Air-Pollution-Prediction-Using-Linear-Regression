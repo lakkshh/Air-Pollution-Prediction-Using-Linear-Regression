{
 "cells": [
  {
   "cell_type": "code",
   "execution_count": 5,
   "metadata": {},
   "outputs": [],
   "source": [
    "import pandas as pd\n",
    "import numpy as np\n",
    "import matplotlib.pyplot as plt"
   ]
  },
  {
   "cell_type": "code",
   "execution_count": 6,
   "metadata": {},
   "outputs": [],
   "source": [
    "df=pd.read_csv('Train/Train.csv')"
   ]
  },
  {
   "cell_type": "code",
   "execution_count": 7,
   "metadata": {},
   "outputs": [],
   "source": [
    "dfx1=df['feature_1']\n",
    "dfx2=df['feature_2']\n",
    "dfx3=df['feature_3']\n",
    "dfx4=df['feature_4']\n",
    "dfx5=df['feature_5']\n",
    "dfy=df['target']"
   ]
  },
  {
   "cell_type": "code",
   "execution_count": 8,
   "metadata": {},
   "outputs": [],
   "source": [
    "x1=dfx1.values.reshape((-1,))\n",
    "x2=dfx2.values.reshape((-1,))\n",
    "x3=dfx3.values.reshape((-1,))\n",
    "x4=dfx4.values.reshape((-1,))\n",
    "x5=dfx5.values.reshape((-1,))\n",
    "y=dfy.values.reshape((-1,))"
   ]
  },
  {
   "cell_type": "code",
   "execution_count": 9,
   "metadata": {},
   "outputs": [],
   "source": [
    "def hypothesis(x1,x2,x3,x4,x5,theta):\n",
    "    return theta[0]+theta[1]*x1+theta[2]*x2+theta[3]*x3+theta[4]*x4+theta[5]*x5    "
   ]
  },
  {
   "cell_type": "code",
   "execution_count": 33,
   "metadata": {},
   "outputs": [],
   "source": [
    "def error(x1,x2,x3,x4,x5,y,theta):\n",
    "    error=0\n",
    "    for i in range(x1.shape[0]):\n",
    "        hx=hypothesis(x1[i],x2[i],x3[i],x4[i],x5[i],theta)\n",
    "        error+=(hx-y[i])**2\n",
    "    return error"
   ]
  },
  {
   "cell_type": "code",
   "execution_count": 34,
   "metadata": {},
   "outputs": [],
   "source": [
    "def gradient(x1,x2,x3,x4,x5,y,theta):\n",
    "    grad=np.zeros((6,))\n",
    "    for i in range(x1.shape[0]):\n",
    "        hx=hypothesis(x1[i],x2[i],x3[i],x4[i],x5[i],theta)\n",
    "        grad[0]+=hx-y[i]\n",
    "        grad[1]+=(hx-y[i])*x1[i]\n",
    "        grad[2]+=(hx-y[i])*x2[i]\n",
    "        grad[3]+=(hx-y[i])*x3[i]\n",
    "        grad[4]+=(hx-y[i])*x4[i]\n",
    "        grad[5]+=(hx-y[i])*x5[i]\n",
    "    return grad"
   ]
  },
  {
   "cell_type": "code",
   "execution_count": 45,
   "metadata": {},
   "outputs": [],
   "source": [
    "def gradientDescent(x1,x2,x3,x4,x5,y,lrate=0.001):\n",
    "    theta=np.array([0.0,0.0,0.0,0.0,0.0,0.0])\n",
    "    max_itr=100\n",
    "    itr=0\n",
    "    error_list=[]\n",
    "    while(itr<=max_itr):\n",
    "        grad=gradient(x1,x2,x3,x4,x5,y,theta)\n",
    "        err=error(x1,x2,x3,x4,x5,y,theta)\n",
    "        error_list.append(err)\n",
    "        theta[0]-=lrate*grad[0]\n",
    "        theta[1]-=lrate*grad[1]\n",
    "        theta[2]-=lrate*grad[2]\n",
    "        theta[3]-=lrate*grad[3]\n",
    "        theta[4]-=lrate*grad[4]\n",
    "        theta[5]-=lrate*grad[5]\n",
    "        itr+=1\n",
    "    return theta,error_list"
   ]
  },
  {
   "cell_type": "code",
   "execution_count": 46,
   "metadata": {},
   "outputs": [],
   "source": [
    "final_theta,error_list=gradientDescent(x1,x2,x3,x4,x5,y)"
   ]
  },
  {
   "cell_type": "code",
   "execution_count": 47,
   "metadata": {},
   "outputs": [
    {
     "data": {
      "text/plain": [
       "[<matplotlib.lines.Line2D at 0x23e35d3d4c8>]"
      ]
     },
     "execution_count": 47,
     "metadata": {},
     "output_type": "execute_result"
    },
    {
     "data": {
      "image/png": "[encoded data removed]",
      "text/plain": [
       "<Figure size 432x288 with 1 Axes>"
      ]
     },
     "metadata": {
      "needs_background": "light"
     },
     "output_type": "display_data"
    }
   ],
   "source": [
    "plt.plot(error_list)"
   ]
  },
  {
   "cell_type": "code",
   "execution_count": null,
   "metadata": {},
   "outputs": [],
   "source": []
  },
  {
   "cell_type": "code",
   "execution_count": null,
   "metadata": {},
   "outputs": [],
   "source": []
  }
 ],
 "metadata": {
  "kernelspec": {
   "display_name": "Python 3",
   "language": "python",
   "name": "python3"
  },
  "language_info": {
   "codemirror_mode": {
    "name": "ipython",
    "version": 3
   },
   "file_extension": ".py",
   "mimetype": "text/x-python",
   "name": "python",
   "nbconvert_exporter": "python",
   "pygments_lexer": "ipython3",
   "version": "3.7.6"
  }
 },
 "nbformat": 4,
 "nbformat_minor": 4
}
